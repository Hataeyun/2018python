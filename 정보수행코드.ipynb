{
 "cells": [
  {
   "cell_type": "code",
   "execution_count": 3,
   "metadata": {},
   "outputs": [
    {
     "name": "stdout",
     "output_type": "stream",
     "text": [
      "2010년부터 2015년 중 어떤 년도의 쓰레기 배출량이 궁금하신가요?2011\n",
      "2011년의 쓰레기 배출량은 136258880톤 입니다.\n"
     ]
    }
   ],
   "source": [
    "#연도별 쓰레기 배출량\n",
    "import csv\n",
    "f=open('연도별 폐기물 현황(톤,일).csv')\n",
    "data=csv.reader(f)\n",
    "\n",
    "a=[]#2010년 \n",
    "b=[]#2011년 \n",
    "c=[]#2012년 \n",
    "d=[]#2013년 \n",
    "e=[]#2014년 \n",
    "g=[]#2015년 \n",
    "h=[a,b,c,d,e,g]\n",
    "\n",
    "next(data)\n",
    "for row in data:\n",
    "    for i in range(0,len(h)):\n",
    "        h[i].append(int(row[i+2]))\n",
    " \n",
    "t=[sum(a)*365,sum(b)*365,sum(c)*365,sum(d)*365,sum(e)*365,sum(g)*365]\n",
    "\n",
    "\n",
    "z=int(input('2010년부터 2015년 중 어떤 년도의 쓰레기 배출량이 궁금하신가요?'))\n",
    "if z>=2010 and z<=2015:\n",
    "    print(str(z)+'년의 쓰레기 배출량은 '+str(t[z-2010])+'톤 입니다.')\n",
    "else:\n",
    "    print('2010년부터 2015년 사이의 년도를 입력해주세요!')\n",
    "\n",
    "f.close()\n",
    "\n"
   ]
  },
  {
   "cell_type": "code",
   "execution_count": 7,
   "metadata": {},
   "outputs": [],
   "source": [
    "#인구 데이터\n",
    "\n",
    "import csv\n",
    "j=open('인구 데이터.csv')\n",
    "ppl=csv.reader(j)\n",
    "\n",
    "aa=[]#2010년 \n",
    "bb=[]#2011년 \n",
    "cc=[]#2012년 \n",
    "dd=[]#2013년 \n",
    "ee=[]#2014년 \n",
    "gg=[]#2015년 \n",
    "hh=[aa,bb,cc,dd,ee,gg]\n",
    "\n",
    "next(ppl)\n",
    "for row in ppl:\n",
    "    for k in range(0,len(hh)):\n",
    "        hh[k].append(row[6*k+1])\n",
    "        \n",
    "pa=int(aa[0])#2010년 전체 인구수\n",
    "pb=int(bb[0])#2011년 전체 인구수\n",
    "pc=int(cc[0])#2012년 전체 인구수\n",
    "pd=int(dd[0])#2013년 전체 인구수\n",
    "pe=int(ee[0])#2014년 전체 인구수\n",
    "pg=int(gg[0])#2015년 전체 인구수\n",
    "\n",
    "j.close()"
   ]
  },
  {
   "cell_type": "code",
   "execution_count": 5,
   "metadata": {},
   "outputs": [
    {
     "data": {
      "image/png": "[encoded data removed]",
      "text/plain": [
       "<matplotlib.figure.Figure at 0x16e99e59fd0>"
      ]
     },
     "metadata": {},
     "output_type": "display_data"
    }
   ],
   "source": [
    "#연도별 1인당 쓰레기 배출량 Graph\n",
    "import matplotlib.pyplot as plt\n",
    "x=[2010,2011,2012,2013,2014,2015]\n",
    "y=[t[0]/pa,t[1]/pb,t[2]/pc,t[3]/pd,t[4]/pe,t[5]/pg]\n",
    "\n",
    "plt.rc('font',family='Malgun Gothic')\n",
    "plt.title('연도별 1인당 쓰레기 배출량(톤)')\n",
    "plt.bar([2010,2011,2012,2013,2014,2015],[y[0],y[1],y[2],y[3],y[4],y[5]], width=0.6, color='r')\n",
    "\n",
    "plt.xlabel('년도') # x축 레이블\n",
    "plt.ylabel('(톤)') # y축 레이블\n",
    "\n",
    "plt.ylim(2.5,3.0) # y축 값 범위\n",
    "\n",
    "\n",
    "plt.show()"
   ]
  },
  {
   "cell_type": "code",
   "execution_count": 6,
   "metadata": {},
   "outputs": [
    {
     "data": {
      "image/png": "[encoded data removed]",
      "text/plain": [
       "<matplotlib.figure.Figure at 0x16e99e59940>"
      ]
     },
     "metadata": {},
     "output_type": "display_data"
    }
   ],
   "source": [
    "#연도별 전체 쓰레기 발생량 Graph\n",
    "\n",
    "import matplotlib.pyplot as plt\n",
    "x=[2010,2011,2012,2013,2014,2015]\n",
    "y=[t[0],t[1],t[2],t[3],t[4],t[5]]\n",
    "\n",
    "plt.rc('font',family='Malgun Gothic')\n",
    "plt.title('연도별 전체 쓰레기 배출량(톤)')\n",
    "plt.bar([2010,2011,2012,2013,2014,2015],[y[0],y[1],y[2],y[3],y[4],y[5]], width=0.6, color='g')\n",
    "\n",
    "plt.xlabel('년도') # x축 레이블\n",
    "plt.ylabel('(10^8 톤)') # y축 레이블\n",
    "\n",
    "plt.ylim(130000000,150000000)\n",
    "\n",
    "\n",
    "plt.show()\n"
   ]
  },
  {
   "cell_type": "code",
   "execution_count": 16,
   "metadata": {},
   "outputs": [
    {
     "name": "stdout",
     "output_type": "stream",
     "text": [
      "몇년도의 1인당 쓰레기 배출량이 궁금하신가요?2015\n",
      "2015년의 1인당 쓰레기 배출량은 2.638413398330728 톤 입니다.\n"
     ]
    }
   ],
   "source": [
    "#년도별 1인당 쓰레기 배출량\n",
    "\n",
    "o=int(input('몇년도의 1인당 쓰레기 배출량이 궁금하신가요?'))\n",
    "\n",
    "n=[t[0]/pa,t[1]/pb,t[2]/pc,t[3]/pd,t[4]/pe,t[5]/pg]\n",
    "\n",
    "if o>=2010 and o<=2015:\n",
    "    print(str(o)+'년의 1인당 쓰레기 배출량은 '+str(n[o-2015])+' 톤 입니다.')\n",
    "else:\n",
    "    print('2010년부터 2015년 사이의 년도를 입력해주세요.')"
   ]
  },
  {
   "cell_type": "code",
   "execution_count": null,
   "metadata": {},
   "outputs": [],
   "source": []
  },
  {
   "cell_type": "code",
   "execution_count": null,
   "metadata": {},
   "outputs": [],
   "source": []
  }
 ],
 "metadata": {
  "kernelspec": {
   "display_name": "Python 3",
   "language": "python",
   "name": "python3"
  },
  "language_info": {
   "codemirror_mode": {
    "name": "ipython",
    "version": 3
   },
   "file_extension": ".py",
   "mimetype": "text/x-python",
   "name": "python",
   "nbconvert_exporter": "python",
   "pygments_lexer": "ipython3",
   "version": "3.6.4"
  }
 },
 "nbformat": 4,
 "nbformat_minor": 2
}
